{
 "metadata": {
  "language_info": {
   "codemirror_mode": {
    "name": "ipython",
    "version": 3
   },
   "file_extension": ".py",
   "mimetype": "text/x-python",
   "name": "python",
   "nbconvert_exporter": "python",
   "pygments_lexer": "ipython3",
   "version": "3.7.0"
  },
  "orig_nbformat": 4,
  "kernelspec": {
   "name": "python3",
   "display_name": "Python 3.7.0 64-bit ('anaconda3-5.3.1': pyenv)"
  },
  "interpreter": {
   "hash": "bbc53a1092b774a62cadf1ff679e44346db2e3bdbb451767c6da2bab18c93349"
  }
 },
 "nbformat": 4,
 "nbformat_minor": 2,
 "cells": [
  {
   "cell_type": "code",
   "execution_count": null,
   "metadata": {},
   "outputs": [],
   "source": [
    "from graphviz import Graph"
   ]
  },
  {
   "cell_type": "code",
   "execution_count": null,
   "metadata": {},
   "outputs": [],
   "source": [
    "import yaml\n",
    "\n",
    "file_name = './sample/docker-compose.yml'\n",
    "\n",
    "# yamlファイルの読み込み\n",
    "with open(file_name) as s:\n",
    "\tdata = yaml.safe_load(s)\n"
   ]
  },
  {
   "cell_type": "code",
   "execution_count": null,
   "metadata": {},
   "outputs": [],
   "source": [
    "g = Graph(format='png')\n",
    "g.attr(rankdir='LR')\n",
    "# 基底のnodeを作成\n",
    "for k in data.keys():\n",
    "    if  k == 'version':\n",
    "        continue\n",
    "    g.node(k)\n",
    "\n",
    "# volumesのnodeを作成\n",
    "volumes_node = []\n",
    "type = 'volumes'\n",
    "if type in data.keys():\n",
    "    for d in data[type]:\n",
    "        g.node(d, shape='cylinder')\n",
    "        g.edge(type, d)\n",
    "        volumes_node.append(d)\n",
    "\n",
    "host_volume_dict = {}\n",
    "host_port_dict = {}\n",
    "# servicesのnodeを作成\n",
    "type = 'services'\n",
    "if type in data.keys():\n",
    "    for d in data[type]:\n",
    "        subgraph_name = 'cluster_{}'.format(d)\n",
    "        # コンテナ名を取得\n",
    "        container_name = ''\n",
    "        if 'container_name' in data[type][d]:\n",
    "            container_name = data[type][d]['container_name']\n",
    "        else:\n",
    "            print('[warning] Reccommend set container_name property.')\n",
    "        \n",
    "        # volumeの設定を取得\n",
    "        volume_dict = {}\n",
    "        host_path = []\n",
    "        container_path = []\n",
    "        if 'volumes' in data[type][d]:\n",
    "            volumes_list = data['services'][d]['volumes']\n",
    "            for v in volumes_list:\n",
    "                a = v.split(':')\n",
    "                volume_dict[a[1]] = a[0]\n",
    "                host_volume_dict[a[0]] = a[1]\n",
    "                host_path.append(a[0])\n",
    "                container_path.append(a[1])\n",
    "        \n",
    "        # 環境変数の取得\n",
    "        environment_values = ''\n",
    "        if 'environment' in data[type][d]:\n",
    "            environment_values = '\\n'.join(list(data[type][d]['environment'].keys()))\n",
    "\n",
    "        # ポート情報の取得\n",
    "        ports_dict = {}\n",
    "        if 'ports' in data[type][d]:\n",
    "            ports_list = data[type][d]['ports']\n",
    "            for p in ports_list:\n",
    "                a = p.split(':')\n",
    "                host_port = 'host_{}'.format(a[0])\n",
    "                ports_dict[str(a[1])] = host_port\n",
    "                host_port_dict[host_port] = str(a[1])\n",
    "\n",
    "\n",
    "        # グラフ描画（コンテナ）\n",
    "        with g.subgraph(name=subgraph_name) as sg:\n",
    "            sg.attr(\"graph\", style='filled', fillcolor='lightgrey')\n",
    "            sg.attr(label=container_name)\n",
    "            sg.node_attr.update(style='filled', color='white')\n",
    "            # サービス名のnodeを作成\n",
    "            sg.node(d)\n",
    "            # volumeのnodeを作成\n",
    "            volume_subgraph_name = '{}_volume'.format(subgraph_name)\n",
    "            with sg.subgraph(name=volume_subgraph_name) as vsg:\n",
    "                vsg.attr(label='volumes')\n",
    "                for p in container_path:\n",
    "                    vsg.node(p, shape='folder')\n",
    "                    if volume_dict[p] in volumes_node:\n",
    "                        g.edge(p, volume_dict[p])\n",
    "            # 環境変数の設定項目を記載\n",
    "            if environment_values != '':\n",
    "                sg.node(environment_values, shape='note')\n",
    "            # portのnodeを作成\n",
    "            port_subgraph_name = '{}_port'.format(subgraph_name)\n",
    "            with sg.subgraph(name=port_subgraph_name) as psg:\n",
    "                psg.attr(label='ports')\n",
    "                for p in ports_dict.keys():\n",
    "                    psg.node(p, shape='terminator')\n",
    "        g.edge(type, d)\n",
    "\n",
    "# グラフ描画（ホスト）\n",
    "host_subgrap_name = '{}_host'.format(subgraph_name)\n",
    "with g.subgraph(name=host_subgrap_name) as hsg:\n",
    "    hsg.attr(label='host machine')\n",
    "    # ホストのvolumeのnodeを作成\n",
    "    volume_host_subgraph_name = '{}_volume'.format(host_subgrap_name)\n",
    "    with hsg.subgraph(name=volume_host_subgraph_name) as vhsg:\n",
    "        vhsg.attr(label='volumes')\n",
    "        for p in host_volume_dict.keys():\n",
    "            if not p in volumes_node:\n",
    "                vhsg.node(p, shape='folder')\n",
    "                g.edge(p, host_volume_dict[p])\n",
    "    # ホストのportのnodeを作成\n",
    "    port_host_subgraph_name = '{}_port'.format(host_subgrap_name)\n",
    "    with hsg.subgraph(name=port_host_subgraph_name) as phsg:\n",
    "        phsg.attr(label='ports')\n",
    "        for p in host_port_dict.keys():\n",
    "            phsg.node(p, shape='terminator')\n",
    "            g.edge(p, host_port_dict[p])\n",
    "g"
   ]
  },
  {
   "cell_type": "code",
   "execution_count": null,
   "metadata": {},
   "outputs": [],
   "source": [
    "print(g.source)"
   ]
  },
  {
   "cell_type": "code",
   "execution_count": null,
   "metadata": {},
   "outputs": [],
   "source": [
    "g.save()"
   ]
  },
  {
   "cell_type": "code",
   "execution_count": null,
   "metadata": {},
   "outputs": [],
   "source": [
    "g.view()"
   ]
  },
  {
   "cell_type": "code",
   "execution_count": null,
   "metadata": {},
   "outputs": [],
   "source": []
  }
 ]
}